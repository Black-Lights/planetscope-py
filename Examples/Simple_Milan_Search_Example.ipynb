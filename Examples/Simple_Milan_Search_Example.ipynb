{
 "cells": [
  {
   "cell_type": "code",
   "execution_count": 1,
   "id": "ca7ff4a2",
   "metadata": {},
   "outputs": [
    {
     "name": "stderr",
     "output_type": "stream",
     "text": [
      "2025-06-19 03:49:40 - planetscope_py.rate_limiter - INFO - RateLimiter initialized with rates: {'search': 10, 'activate': 5, 'download': 15, 'general': 10}\n",
      "2025-06-19 03:49:40 - planetscope_py.query - INFO - PlanetScopeQuery initialized successfully\n",
      "2025-06-19 03:49:40 - planetscope_py.query - INFO - Executing search for 1 item types\n"
     ]
    },
    {
     "name": "stdout",
     "output_type": "stream",
     "text": [
      "🔍 Searching for PlanetScope scenes over Milan...\n",
      "   📅 Date: January 2025\n",
      "   📍 Area: 100km x 100km around Milan\n",
      "   ☁️ Cloud cover: ≤ 20%\n"
     ]
    },
    {
     "name": "stderr",
     "output_type": "stream",
     "text": [
      "2025-06-19 03:49:40 - planetscope_py.query - INFO - Search completed: 233 scenes found\n"
     ]
    },
    {
     "name": "stdout",
     "output_type": "stream",
     "text": [
      "\n",
      "📊 Found 233 scenes!\n",
      "\n",
      "📸 First few scenes:\n",
      "   1. 20250129_104035_95_2533\n",
      "      Date: 2025-01-29T10:40:35.959754Z\n",
      "      Cloud: 11.0%\n",
      "   2. 20250129_104031_32_2533\n",
      "      Date: 2025-01-29T10:40:31.321922Z\n",
      "      Cloud: 0.0%\n",
      "   3. 20250129_104033_75_2533\n",
      "      Date: 2025-01-29T10:40:33.750612Z\n",
      "      Cloud: 0.0%\n"
     ]
    }
   ],
   "source": [
    "#!/usr/bin/env python3\n",
    "\"\"\"Simple example: Search for PlanetScope scenes over Milan.\"\"\"\n",
    "\n",
    "from planetscope_py import PlanetScopeQuery\n",
    "\n",
    "# Milan coordinates (center of the city)\n",
    "MILAN_LAT = 45.4642\n",
    "MILAN_LON = 9.1900\n",
    "\n",
    "def create_milan_box(size_km=100):\n",
    "    \"\"\"Create a square polygon around Milan.\"\"\"\n",
    "    \n",
    "    # Calculate offsets for the box size\n",
    "    half_size = size_km / 2\n",
    "    lat_offset = half_size / 111.0  # degrees latitude\n",
    "    lon_offset = half_size / (111.0 * 0.707)  # degrees longitude (adjusted for latitude)\n",
    "    \n",
    "    # Create bounding box\n",
    "    return {\n",
    "        \"type\": \"Polygon\",\n",
    "        \"coordinates\": [[\n",
    "            [MILAN_LON - lon_offset, MILAN_LAT + lat_offset],  # NW\n",
    "            [MILAN_LON + lon_offset, MILAN_LAT + lat_offset],  # NE\n",
    "            [MILAN_LON + lon_offset, MILAN_LAT - lat_offset],  # SE\n",
    "            [MILAN_LON - lon_offset, MILAN_LAT - lat_offset],  # SW\n",
    "            [MILAN_LON - lon_offset, MILAN_LAT + lat_offset]   # Close polygon\n",
    "        ]]\n",
    "    }\n",
    "\n",
    "def search_milan_scenes():\n",
    "    \"\"\"Search for scenes over Milan in January 2025.\"\"\"\n",
    "    \n",
    "    # Create Milan geometry\n",
    "    milan_geometry = create_milan_box(100)  # 100km x 100km\n",
    "    \n",
    "    # Initialize query\n",
    "    query = PlanetScopeQuery()\n",
    "    \n",
    "    print(\"🔍 Searching for PlanetScope scenes over Milan...\")\n",
    "    print(f\"   📅 Date: January 2025\")\n",
    "    print(f\"   📍 Area: 100km x 100km around Milan\")\n",
    "    print(f\"   ☁️ Cloud cover: ≤ 20%\")\n",
    "    \n",
    "    # Search for scenes\n",
    "    results = query.search_scenes(\n",
    "        geometry=milan_geometry,\n",
    "        start_date=\"2025-01-01\",\n",
    "        end_date=\"2025-01-31\",\n",
    "        cloud_cover_max=0.2,\n",
    "        item_types=[\"PSScene\"]\n",
    "    )\n",
    "    \n",
    "    # Show results\n",
    "    num_scenes = len(results.get('features', []))\n",
    "    print(f\"\\n📊 Found {num_scenes} scenes!\")\n",
    "    \n",
    "    if num_scenes > 0:\n",
    "        print(\"\\n📸 First few scenes:\")\n",
    "        for i, scene in enumerate(results['features'][:3]):\n",
    "            props = scene.get('properties', {})\n",
    "            print(f\"   {i+1}. {scene['id']}\")\n",
    "            print(f\"      Date: {props.get('acquired', 'unknown')}\")\n",
    "            print(f\"      Cloud: {props.get('cloud_cover', 0):.1%}\")\n",
    "    \n",
    "    return results\n",
    "\n",
    "if __name__ == \"__main__\":\n",
    "    results = search_milan_scenes()"
   ]
  },
  {
   "cell_type": "code",
   "execution_count": null,
   "id": "97cc4855",
   "metadata": {},
   "outputs": [],
   "source": []
  }
 ],
 "metadata": {
  "kernelspec": {
   "display_name": "myvenv",
   "language": "python",
   "name": "python3"
  },
  "language_info": {
   "codemirror_mode": {
    "name": "ipython",
    "version": 3
   },
   "file_extension": ".py",
   "mimetype": "text/x-python",
   "name": "python",
   "nbconvert_exporter": "python",
   "pygments_lexer": "ipython3",
   "version": "3.13.1"
  }
 },
 "nbformat": 4,
 "nbformat_minor": 5
}
